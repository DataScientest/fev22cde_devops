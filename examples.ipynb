{
 "cells": [
  {
   "cell_type": "markdown",
   "metadata": {},
   "source": [
    "# Requetes HTTP\n",
    "\n",
    "## Requetes:\n",
    "\n",
    "- Methode\n",
    "- URL\n",
    "- Corps\n",
    "- En-tetes\n",
    "\n",
    "\n",
    "URL: https://openweathermap.org/api\n",
    "\n",
    "protocole: http(s)://\n",
    "nom de dommaine (adresse IP intelligible): openweathermap.org \n",
    "point de terminaiso: /api\n",
    "\n",
    "Méthodes:\n",
    "\n",
    "- GET : on veut récuper des données\n",
    "- POST: on veut créer des données\n",
    "- PUT : on veut modifier des données \n",
    "- DELETE: on veut supprimer des données\n",
    "- PATCH, HEAD, OPTIONS, ...\n",
    "\n",
    "\n",
    "En-têtes:\n",
    "clef-valeurs qui contiennent des meta-données sur la requete (origine de la requete, encoding de la requete, format des données de la requete, token d'authentification...)\n",
    "\n",
    "Corps (optionnel):\n",
    "\n",
    "permet de passer des donnees\n",
    "\n",
    "## Réponse\n",
    "\n",
    "- En-têtes\n",
    "- Status code\n",
    "- Corps\n",
    "\n",
    "\n",
    "En-têtes: metadonnées\n",
    "Corps: données \n",
    "Status code: code qui va permettre de comprendre l'état de la requete\n",
    "\n",
    "- 40X: (404 not found, 403 forbidden, 401 invalid 418 (?)...) le client a fait une erreur\n",
    "- 50X: (503 bad gateway, ...) le serveur a fait une erreur\n",
    "- 20X: ça va... tout se passe bien\n"
   ]
  },
  {
   "cell_type": "code",
   "execution_count": 1,
   "metadata": {},
   "outputs": [],
   "source": [
    "import requests\n"
   ]
  },
  {
   "cell_type": "code",
   "execution_count": 2,
   "metadata": {},
   "outputs": [],
   "source": [
    "response = requests.get(\n",
    "    url=\"http://example.org/\"\n",
    ")"
   ]
  },
  {
   "cell_type": "code",
   "execution_count": 3,
   "metadata": {},
   "outputs": [
    {
     "data": {
      "text/plain": [
       "200"
      ]
     },
     "execution_count": 3,
     "metadata": {},
     "output_type": "execute_result"
    }
   ],
   "source": [
    "response.status_code"
   ]
  },
  {
   "cell_type": "code",
   "execution_count": 4,
   "metadata": {},
   "outputs": [
    {
     "data": {
      "text/plain": [
       "b'<!doctype html>\\n<html>\\n<head>\\n    <title>Example Domain</title>\\n\\n    <meta charset=\"utf-8\" />\\n    <meta http-equiv=\"Content-type\" content=\"text/html; charset=utf-8\" />\\n    <meta name=\"viewport\" content=\"width=device-width, initial-scale=1\" />\\n    <style type=\"text/css\">\\n    body {\\n        background-color: #f0f0f2;\\n        margin: 0;\\n        padding: 0;\\n        font-family: -apple-system, system-ui, BlinkMacSystemFont, \"Segoe UI\", \"Open Sans\", \"Helvetica Neue\", Helvetica, Arial, sans-serif;\\n        \\n    }\\n    div {\\n        width: 600px;\\n        margin: 5em auto;\\n        padding: 2em;\\n        background-color: #fdfdff;\\n        border-radius: 0.5em;\\n        box-shadow: 2px 3px 7px 2px rgba(0,0,0,0.02);\\n    }\\n    a:link, a:visited {\\n        color: #38488f;\\n        text-decoration: none;\\n    }\\n    @media (max-width: 700px) {\\n        div {\\n            margin: 0 auto;\\n            width: auto;\\n        }\\n    }\\n    </style>    \\n</head>\\n\\n<body>\\n<div>\\n    <h1>Example Domain</h1>\\n    <p>This domain is for use in illustrative examples in documents. You may use this\\n    domain in literature without prior coordination or asking for permission.</p>\\n    <p><a href=\"https://www.iana.org/domains/example\">More information...</a></p>\\n</div>\\n</body>\\n</html>\\n'"
      ]
     },
     "execution_count": 4,
     "metadata": {},
     "output_type": "execute_result"
    }
   ],
   "source": [
    "response.content"
   ]
  },
  {
   "cell_type": "code",
   "execution_count": 5,
   "metadata": {},
   "outputs": [
    {
     "data": {
      "text/plain": [
       "{'Content-Encoding': 'gzip', 'Accept-Ranges': 'bytes', 'Age': '428407', 'Cache-Control': 'max-age=604800', 'Content-Type': 'text/html; charset=UTF-8', 'Date': 'Thu, 23 Jun 2022 10:30:09 GMT', 'Etag': '\"3147526947+ident\"', 'Expires': 'Thu, 30 Jun 2022 10:30:09 GMT', 'Last-Modified': 'Thu, 17 Oct 2019 07:18:26 GMT', 'Server': 'ECS (dcb/7EC7)', 'Vary': 'Accept-Encoding', 'X-Cache': 'HIT', 'Content-Length': '648'}"
      ]
     },
     "execution_count": 5,
     "metadata": {},
     "output_type": "execute_result"
    }
   ],
   "source": [
    "response.headers"
   ]
  },
  {
   "cell_type": "code",
   "execution_count": 6,
   "metadata": {},
   "outputs": [],
   "source": [
    "url = \"https://api.openweathermap.org/data/2.5/weather\"\n",
    "\n",
    "response = requests.get(\n",
    "    url=url,\n",
    "    params={\n",
    "        \"lat\": 45,\n",
    "        \"lon\": 1,\n",
    "        \"appid\":\"37b483db2ece2589da0114fcedfc3bd4\"\n",
    "    }\n",
    ")"
   ]
  },
  {
   "cell_type": "code",
   "execution_count": 7,
   "metadata": {},
   "outputs": [
    {
     "data": {
      "text/plain": [
       "200"
      ]
     },
     "execution_count": 7,
     "metadata": {},
     "output_type": "execute_result"
    }
   ],
   "source": [
    "response.status_code"
   ]
  },
  {
   "cell_type": "code",
   "execution_count": 8,
   "metadata": {},
   "outputs": [
    {
     "data": {
      "text/plain": [
       "{'coord': {'lon': 1, 'lat': 45},\n",
       " 'weather': [{'id': 502,\n",
       "   'main': 'Rain',\n",
       "   'description': 'heavy intensity rain',\n",
       "   'icon': '10d'}],\n",
       " 'base': 'stations',\n",
       " 'main': {'temp': 290.01,\n",
       "  'feels_like': 289.27,\n",
       "  'temp_min': 290.01,\n",
       "  'temp_max': 290.01,\n",
       "  'pressure': 1011,\n",
       "  'humidity': 58,\n",
       "  'sea_level': 1011,\n",
       "  'grnd_level': 985},\n",
       " 'visibility': 10000,\n",
       " 'wind': {'speed': 3.64, 'deg': 283, 'gust': 4.3},\n",
       " 'rain': {'1h': 7.35},\n",
       " 'clouds': {'all': 70},\n",
       " 'dt': 1655980338,\n",
       " 'sys': {'type': 1,\n",
       "  'id': 6451,\n",
       "  'country': 'FR',\n",
       "  'sunrise': 1655957382,\n",
       "  'sunset': 1656013594},\n",
       " 'timezone': 7200,\n",
       " 'id': 6429424,\n",
       " 'name': 'Manaurie',\n",
       " 'cod': 200}"
      ]
     },
     "execution_count": 8,
     "metadata": {},
     "output_type": "execute_result"
    }
   ],
   "source": [
    "response.json()"
   ]
  },
  {
   "cell_type": "code",
   "execution_count": 13,
   "metadata": {},
   "outputs": [
    {
     "name": "stdout",
     "output_type": "stream",
     "text": [
      "200\n",
      "{'Hello': 'World'}\n"
     ]
    }
   ],
   "source": [
    "url = \"http://127.0.0.1:8000\"\n",
    "\n",
    "response = requests.get(\n",
    "    url=f\"{url}/\",\n",
    "    \n",
    ")\n",
    "\n",
    "print(response.status_code)\n",
    "\n",
    "print(response.json())\n",
    "\n"
   ]
  },
  {
   "cell_type": "code",
   "execution_count": 25,
   "metadata": {},
   "outputs": [
    {
     "name": "stdout",
     "output_type": "stream",
     "text": [
      "200\n",
      "{'prediction': 3}\n"
     ]
    }
   ],
   "source": [
    "response = requests.post(\n",
    "    url=f\"{url}/mon_post\",\n",
    "    \n",
    ")\n",
    "\n",
    "print(response.status_code)\n",
    "\n",
    "print(response.json())\n",
    "\n"
   ]
  },
  {
   "cell_type": "code",
   "execution_count": null,
   "metadata": {},
   "outputs": [],
   "source": []
  }
 ],
 "metadata": {
  "kernelspec": {
   "display_name": "Python 3 (ipykernel)",
   "language": "python",
   "name": "python3"
  },
  "language_info": {
   "codemirror_mode": {
    "name": "ipython",
    "version": 3
   },
   "file_extension": ".py",
   "mimetype": "text/x-python",
   "name": "python",
   "nbconvert_exporter": "python",
   "pygments_lexer": "ipython3",
   "version": "3.8.10"
  }
 },
 "nbformat": 4,
 "nbformat_minor": 4
}
